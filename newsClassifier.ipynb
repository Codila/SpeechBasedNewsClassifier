{
 "cells": [
  {
   "cell_type": "code",
   "execution_count": 1,
   "metadata": {},
   "outputs": [
    {
     "name": "stdout",
     "output_type": "stream",
     "text": [
      "Tensorflow Version :  2.1.0\n"
     ]
    }
   ],
   "source": [
    "import tensorflow as tf\n",
    "print(\"Tensorflow Version : \",tf.__version__)\n",
    "import os\n",
    "import re\n",
    "import pandas as pd\n",
    "\n"
   ]
  },
  {
   "cell_type": "markdown",
   "metadata": {},
   "source": [
    "# Loading data"
   ]
  },
  {
   "cell_type": "code",
   "execution_count": 3,
   "metadata": {},
   "outputs": [],
   "source": [
    "#Loading the training data\n",
    "train = pd.read_excel(\"Data_Train.xlsx\")\n",
    "\n",
    "#We will only use a fraction (20%) of the original dataset to train the model\n",
    "train = train.sample(frac = 0.2)\n",
    "\n"
   ]
  },
  {
   "cell_type": "markdown",
   "metadata": {},
   "source": [
    "# Initializing The Classifier¶"
   ]
  },
  {
   "cell_type": "code",
   "execution_count": 5,
   "metadata": {},
   "outputs": [
    {
     "name": "stdout",
     "output_type": "stream",
     "text": [
      "Collecting simpletransformers\n",
      "\u001b[?25l  Downloading https://files.pythonhosted.org/packages/50/38/8aa5d194930c7fcd7a331defba1813968469b3638d5c0f4d14dc8cd8f7f1/simpletransformers-0.19.4-py3-none-any.whl (101kB)\n",
      "\u001b[K     |████████████████████████████████| 102kB 2.3MB/s ta 0:00:01\n",
      "\u001b[?25hCollecting regex (from simpletransformers)\n",
      "  Using cached https://files.pythonhosted.org/packages/97/6e/2f8d8e86621ab6eb84a2200c78b24343f74dd722f493a7fbbac37036dc13/regex-2020.1.8-cp37-cp37m-manylinux2010_x86_64.whl\n",
      "Requirement already satisfied: pandas in /home/varun/anaconda3/lib/python3.7/site-packages (from simpletransformers) (0.25.1)\n",
      "Requirement already satisfied: tqdm in /home/varun/anaconda3/lib/python3.7/site-packages (from simpletransformers) (4.36.1)\n",
      "Collecting seqeval (from simpletransformers)\n",
      "  Using cached https://files.pythonhosted.org/packages/34/91/068aca8d60ce56dd9ba4506850e876aba5e66a6f2f29aa223224b50df0de/seqeval-0.0.12.tar.gz\n",
      "Collecting transformers (from simpletransformers)\n",
      "  Using cached https://files.pythonhosted.org/packages/ee/fc/bd726a15ab2c66dc09306689d04da07a3770dad724f0883f0a4bfb745087/transformers-2.4.1-py3-none-any.whl\n",
      "Collecting wandb (from simpletransformers)\n",
      "\u001b[?25l  Downloading https://files.pythonhosted.org/packages/ed/a5/26e3142af4d8205b049ce91bbad4e961edf6734e4acfa4baae52a428f955/wandb-0.8.25-py2.py3-none-any.whl (1.4MB)\n",
      "\u001b[K     |████████████████████████████████| 1.4MB 2.6MB/s eta 0:00:01\n",
      "\u001b[?25hRequirement already satisfied: requests in /home/varun/anaconda3/lib/python3.7/site-packages (from simpletransformers) (2.22.0)\n",
      "Collecting tensorboardx (from simpletransformers)\n",
      "  Using cached https://files.pythonhosted.org/packages/35/f1/5843425495765c8c2dd0784a851a93ef204d314fc87bcc2bbb9f662a3ad1/tensorboardX-2.0-py2.py3-none-any.whl\n",
      "Requirement already satisfied: scikit-learn in /home/varun/anaconda3/lib/python3.7/site-packages (from simpletransformers) (0.21.3)\n",
      "Requirement already satisfied: numpy in /home/varun/anaconda3/lib/python3.7/site-packages (from simpletransformers) (1.17.2)\n",
      "Requirement already satisfied: scipy in /home/varun/anaconda3/lib/python3.7/site-packages (from simpletransformers) (1.4.1)\n",
      "Requirement already satisfied: pytz>=2017.2 in /home/varun/anaconda3/lib/python3.7/site-packages (from pandas->simpletransformers) (2019.3)\n",
      "Requirement already satisfied: python-dateutil>=2.6.1 in /home/varun/anaconda3/lib/python3.7/site-packages (from pandas->simpletransformers) (2.8.0)\n",
      "Collecting Keras>=2.2.4 (from seqeval->simpletransformers)\n",
      "  Using cached https://files.pythonhosted.org/packages/ad/fd/6bfe87920d7f4fd475acd28500a42482b6b84479832bdc0fe9e589a60ceb/Keras-2.3.1-py2.py3-none-any.whl\n",
      "Requirement already satisfied: filelock in /home/varun/anaconda3/lib/python3.7/site-packages (from transformers->simpletransformers) (3.0.12)\n",
      "Collecting tokenizers==0.0.11 (from transformers->simpletransformers)\n",
      "  Using cached https://files.pythonhosted.org/packages/5f/cb/3e8902d528538972873d0e9e4e47a31d1849a98e057009e9d383637c96fb/tokenizers-0.0.11-cp37-cp37m-manylinux1_x86_64.whl\n",
      "Collecting sentencepiece (from transformers->simpletransformers)\n",
      "  Using cached https://files.pythonhosted.org/packages/11/e0/1264990c559fb945cfb6664742001608e1ed8359eeec6722830ae085062b/sentencepiece-0.1.85-cp37-cp37m-manylinux1_x86_64.whl\n",
      "Collecting sacremoses (from transformers->simpletransformers)\n",
      "  Using cached https://files.pythonhosted.org/packages/a6/b4/7a41d630547a4afd58143597d5a49e07bfd4c42914d8335b2a5657efc14b/sacremoses-0.0.38.tar.gz\n",
      "Collecting boto3 (from transformers->simpletransformers)\n",
      "  Using cached https://files.pythonhosted.org/packages/bc/ef/10bfa08a204a59ccef56a922b19c1648ce9cb61b6d127c607314a12d498d/boto3-1.11.13-py2.py3-none-any.whl\n",
      "Collecting watchdog>=0.8.3 (from wandb->simpletransformers)\n",
      "\u001b[?25l  Downloading https://files.pythonhosted.org/packages/73/c3/ed6d992006837e011baca89476a4bbffb0a91602432f73bd4473816c76e2/watchdog-0.10.2.tar.gz (95kB)\n",
      "\u001b[K     |████████████████████████████████| 102kB 5.7MB/s ta 0:00:01\n",
      "\u001b[?25hCollecting subprocess32>=3.5.3 (from wandb->simpletransformers)\n",
      "  Using cached https://files.pythonhosted.org/packages/32/c8/564be4d12629b912ea431f1a50eb8b3b9d00f1a0b1ceff17f266be190007/subprocess32-3.5.4.tar.gz\n",
      "Collecting shortuuid>=0.5.0 (from wandb->simpletransformers)\n",
      "  Downloading https://files.pythonhosted.org/packages/80/d7/2bfc9332e68d3e15ea97b9b1588b3899ad565120253d3fd71c8f7f13b4fe/shortuuid-0.5.0.tar.gz\n",
      "Collecting sentry-sdk>=0.4.0 (from wandb->simpletransformers)\n",
      "\u001b[?25l  Downloading https://files.pythonhosted.org/packages/23/5a/f1b0c63e40517b06bc21744a94013ca05de21de2687a59de889ea20a9ebd/sentry_sdk-0.14.1-py2.py3-none-any.whl (93kB)\n",
      "\u001b[K     |████████████████████████████████| 102kB 7.4MB/s ta 0:00:011\n",
      "\u001b[?25hCollecting configparser>=3.8.1 (from wandb->simpletransformers)\n",
      "  Using cached https://files.pythonhosted.org/packages/7a/2a/95ed0501cf5d8709490b1d3a3f9b5cf340da6c433f896bbe9ce08dbe6785/configparser-4.0.2-py2.py3-none-any.whl\n",
      "Requirement already satisfied: PyYAML>=3.10 in /home/varun/anaconda3/lib/python3.7/site-packages (from wandb->simpletransformers) (5.1.2)\n",
      "Requirement already satisfied: Click>=7.0 in /home/varun/anaconda3/lib/python3.7/site-packages (from wandb->simpletransformers) (7.0)\n",
      "Requirement already satisfied: psutil>=5.0.0 in /home/varun/anaconda3/lib/python3.7/site-packages (from wandb->simpletransformers) (5.6.3)\n",
      "Collecting nvidia-ml-py3>=7.352.0 (from wandb->simpletransformers)\n",
      "  Downloading https://files.pythonhosted.org/packages/6d/64/cce82bddb80c0b0f5c703bbdafa94bfb69a1c5ad7a79cff00b482468f0d3/nvidia-ml-py3-7.352.0.tar.gz\n",
      "Requirement already satisfied: six>=1.10.0 in /home/varun/anaconda3/lib/python3.7/site-packages (from wandb->simpletransformers) (1.12.0)\n",
      "Collecting GitPython>=1.0.0 (from wandb->simpletransformers)\n",
      "\u001b[?25l  Downloading https://files.pythonhosted.org/packages/85/d2/5b44bbfea118bd97d94549b8a0eb2fd60e619c8fdeead4fa7cf666738cbd/GitPython-3.0.7-py3-none-any.whl (451kB)\n",
      "\u001b[K     |████████████████████████████████| 460kB 6.9MB/s eta 0:00:01\n",
      "\u001b[?25hCollecting gql==0.2.0 (from wandb->simpletransformers)\n",
      "  Downloading https://files.pythonhosted.org/packages/c4/6f/cf9a3056045518f06184e804bae89390eb706168349daa9dff8ac609962a/gql-0.2.0.tar.gz\n",
      "Collecting docker-pycreds>=0.4.0 (from wandb->simpletransformers)\n",
      "  Downloading https://files.pythonhosted.org/packages/f5/e8/f6bd1eee09314e7e6dee49cbe2c5e22314ccdb38db16c9fc72d2fa80d054/docker_pycreds-0.4.0-py2.py3-none-any.whl\n",
      "Requirement already satisfied: chardet<3.1.0,>=3.0.2 in /home/varun/anaconda3/lib/python3.7/site-packages (from requests->simpletransformers) (3.0.4)\n",
      "Requirement already satisfied: urllib3!=1.25.0,!=1.25.1,<1.26,>=1.21.1 in /home/varun/anaconda3/lib/python3.7/site-packages (from requests->simpletransformers) (1.24.2)\n",
      "Requirement already satisfied: idna<2.9,>=2.5 in /home/varun/anaconda3/lib/python3.7/site-packages (from requests->simpletransformers) (2.8)\n",
      "Requirement already satisfied: certifi>=2017.4.17 in /home/varun/anaconda3/lib/python3.7/site-packages (from requests->simpletransformers) (2019.9.11)\n",
      "Requirement already satisfied: protobuf>=3.8.0 in /home/varun/anaconda3/lib/python3.7/site-packages (from tensorboardx->simpletransformers) (3.11.3)\n",
      "Requirement already satisfied: joblib>=0.11 in /home/varun/anaconda3/lib/python3.7/site-packages (from scikit-learn->simpletransformers) (0.13.2)\n",
      "Requirement already satisfied: h5py in /home/varun/anaconda3/lib/python3.7/site-packages (from Keras>=2.2.4->seqeval->simpletransformers) (2.9.0)\n",
      "Requirement already satisfied: keras-applications>=1.0.6 in /home/varun/anaconda3/lib/python3.7/site-packages (from Keras>=2.2.4->seqeval->simpletransformers) (1.0.8)\n",
      "Requirement already satisfied: keras-preprocessing>=1.0.5 in /home/varun/anaconda3/lib/python3.7/site-packages (from Keras>=2.2.4->seqeval->simpletransformers) (1.1.0)\n",
      "Collecting s3transfer<0.4.0,>=0.3.0 (from boto3->transformers->simpletransformers)\n",
      "  Using cached https://files.pythonhosted.org/packages/69/79/e6afb3d8b0b4e96cefbdc690f741d7dd24547ff1f94240c997a26fa908d3/s3transfer-0.3.3-py2.py3-none-any.whl\n",
      "Collecting botocore<1.15.0,>=1.14.13 (from boto3->transformers->simpletransformers)\n",
      "  Using cached https://files.pythonhosted.org/packages/83/ef/1860283d82ab7eaa85a911fc038ab3a9646efa0b1393a9b8a2f8c0905f96/botocore-1.14.13-py2.py3-none-any.whl\n"
     ]
    },
    {
     "name": "stdout",
     "output_type": "stream",
     "text": [
      "Collecting jmespath<1.0.0,>=0.7.1 (from boto3->transformers->simpletransformers)\n",
      "  Using cached https://files.pythonhosted.org/packages/83/94/7179c3832a6d45b266ddb2aac329e101367fbdb11f425f13771d27f225bb/jmespath-0.9.4-py2.py3-none-any.whl\n",
      "Collecting pathtools>=0.1.1 (from watchdog>=0.8.3->wandb->simpletransformers)\n",
      "  Using cached https://files.pythonhosted.org/packages/e7/7f/470d6fcdf23f9f3518f6b0b76be9df16dcc8630ad409947f8be2eb0ed13a/pathtools-0.1.2.tar.gz\n",
      "Collecting gitdb2>=2.0.0 (from GitPython>=1.0.0->wandb->simpletransformers)\n",
      "\u001b[?25l  Downloading https://files.pythonhosted.org/packages/03/6c/99296f89bad2ef85626e1df9f677acbee8885bb043ad82ad3ed4746d2325/gitdb2-2.0.6-py2.py3-none-any.whl (63kB)\n",
      "\u001b[K     |████████████████████████████████| 71kB 6.0MB/s eta 0:00:011\n",
      "\u001b[?25hCollecting graphql-core<2,>=0.5.0 (from gql==0.2.0->wandb->simpletransformers)\n",
      "\u001b[?25l  Downloading https://files.pythonhosted.org/packages/b0/89/00ad5e07524d8c523b14d70c685e0299a8b0de6d0727e368c41b89b7ed0b/graphql-core-1.1.tar.gz (70kB)\n",
      "\u001b[K     |████████████████████████████████| 71kB 3.6MB/s eta 0:00:011\n",
      "\u001b[?25hCollecting promise<3,>=2.0 (from gql==0.2.0->wandb->simpletransformers)\n",
      "  Downloading https://files.pythonhosted.org/packages/cf/9c/fb5d48abfe5d791cd496e4242ebcf87a4bb2e0c3dcd6e0ae68c11426a528/promise-2.3.tar.gz\n",
      "Requirement already satisfied: setuptools in /home/varun/anaconda3/lib/python3.7/site-packages (from protobuf>=3.8.0->tensorboardx->simpletransformers) (41.4.0)\n",
      "Requirement already satisfied: docutils<0.16,>=0.10 in /home/varun/anaconda3/lib/python3.7/site-packages (from botocore<1.15.0,>=1.14.13->boto3->transformers->simpletransformers) (0.15.2)\n",
      "Collecting smmap2>=2.0.0 (from gitdb2>=2.0.0->GitPython>=1.0.0->wandb->simpletransformers)\n",
      "  Downloading https://files.pythonhosted.org/packages/55/d2/866d45e3a121ee15a1dc013824d58072fd5c7799c9c34d01378eb262ca8f/smmap2-2.0.5-py2.py3-none-any.whl\n",
      "Building wheels for collected packages: seqeval, sacremoses, watchdog, subprocess32, shortuuid, nvidia-ml-py3, gql, pathtools, graphql-core, promise\n",
      "  Building wheel for seqeval (setup.py) ... \u001b[?25ldone\n",
      "\u001b[?25h  Created wheel for seqeval: filename=seqeval-0.0.12-cp37-none-any.whl size=7423 sha256=357215a3f2bb7c552cb7f004c2da036f3518383620445ee7c24b5fb2433cd89a\n",
      "  Stored in directory: /home/varun/.cache/pip/wheels/4f/32/0a/df3b340a82583566975377d65e724895b3fad101a3fb729f68\n",
      "  Building wheel for sacremoses (setup.py) ... \u001b[?25ldone\n",
      "\u001b[?25h  Created wheel for sacremoses: filename=sacremoses-0.0.38-cp37-none-any.whl size=884628 sha256=ab9f3d964c3fa3d53f96ec53a2560c1aa973ad1716566816ab73aff91faa5932\n",
      "  Stored in directory: /home/varun/.cache/pip/wheels/6d/ec/1a/21b8912e35e02741306f35f66c785f3afe94de754a0eaf1422\n",
      "  Building wheel for watchdog (setup.py) ... \u001b[?25ldone\n",
      "\u001b[?25h  Created wheel for watchdog: filename=watchdog-0.10.2-cp37-none-any.whl size=73606 sha256=e2ddd9a0b7722b3ca67dadcb6f9cf9456252193e21b47ab91b9637c6a9800c7b\n",
      "  Stored in directory: /home/varun/.cache/pip/wheels/bc/ed/6c/028dea90d31b359cd2a7c8b0da4db80e41d24a59614154072e\n",
      "  Building wheel for subprocess32 (setup.py) ... \u001b[?25ldone\n",
      "\u001b[?25h  Created wheel for subprocess32: filename=subprocess32-3.5.4-cp37-none-any.whl size=6490 sha256=d27d314b0cc87b637e2fde29030450024cdbc67f0ff1c25e622006b1dc43add4\n",
      "  Stored in directory: /home/varun/.cache/pip/wheels/68/39/1a/5e402bdfdf004af1786c8b853fd92f8c4a04f22aad179654d1\n",
      "  Building wheel for shortuuid (setup.py) ... \u001b[?25ldone\n",
      "\u001b[?25h  Created wheel for shortuuid: filename=shortuuid-0.5.0-cp37-none-any.whl size=5499 sha256=94b7b9fc026d1c6739462f227d4347b3486742b4dc7d4a746e05ed827e15118a\n",
      "  Stored in directory: /home/varun/.cache/pip/wheels/3f/eb/fd/69e5177f67b505e44acbd1aedfbe44b91768ee0c4cd5636576\n",
      "  Building wheel for nvidia-ml-py3 (setup.py) ... \u001b[?25ldone\n",
      "\u001b[?25h  Created wheel for nvidia-ml-py3: filename=nvidia_ml_py3-7.352.0-cp37-none-any.whl size=19192 sha256=ced338dd412498e0919e5b1ca3dc9ea2bcd02d20d81445c26c335938ca6cbd4a\n",
      "  Stored in directory: /home/varun/.cache/pip/wheels/e4/1d/06/640c93f5270d67d0247f30be91f232700d19023f9e66d735c7\n",
      "  Building wheel for gql (setup.py) ... \u001b[?25ldone\n",
      "\u001b[?25h  Created wheel for gql: filename=gql-0.2.0-cp37-none-any.whl size=7630 sha256=f0b58533ae6e1d5330f3a2bc2fa439af007e0c73ad3ae153c855d17a908c867e\n",
      "  Stored in directory: /home/varun/.cache/pip/wheels/ce/0e/7b/58a8a5268655b3ad74feef5aa97946f0addafb3cbb6bd2da23\n",
      "  Building wheel for pathtools (setup.py) ... \u001b[?25ldone\n",
      "\u001b[?25h  Created wheel for pathtools: filename=pathtools-0.1.2-cp37-none-any.whl size=8786 sha256=f4c071c5dbe6a5a006e79ddff9b53514097a9456b513b4dac8e0dbb093cb3403\n",
      "  Stored in directory: /home/varun/.cache/pip/wheels/0b/04/79/c3b0c3a0266a3cb4376da31e5bfe8bba0c489246968a68e843\n",
      "  Building wheel for graphql-core (setup.py) ... \u001b[?25ldone\n",
      "\u001b[?25h  Created wheel for graphql-core: filename=graphql_core-1.1-cp37-none-any.whl size=104651 sha256=3a241405f34c83dbfb534d3249cc390438b1dc48ab223ca424c6a12fbe3e450f\n",
      "  Stored in directory: /home/varun/.cache/pip/wheels/45/99/d7/c424029bb0fe910c63b68dbf2aa20d3283d023042521bcd7d5\n",
      "  Building wheel for promise (setup.py) ... \u001b[?25ldone\n",
      "\u001b[?25h  Created wheel for promise: filename=promise-2.3-cp37-none-any.whl size=21494 sha256=fd3440c3ddfc916b6f93cbf3f6bff6168ce333988fcf0e6da5acdb1bb5513383\n",
      "  Stored in directory: /home/varun/.cache/pip/wheels/19/49/34/c3c1e78bcb954c49e5ec0d31784fe63d14d427f316b12fbde9\n",
      "Successfully built seqeval sacremoses watchdog subprocess32 shortuuid nvidia-ml-py3 gql pathtools graphql-core promise\n",
      "Installing collected packages: regex, Keras, seqeval, tokenizers, sentencepiece, sacremoses, jmespath, botocore, s3transfer, boto3, transformers, pathtools, watchdog, subprocess32, shortuuid, sentry-sdk, configparser, nvidia-ml-py3, smmap2, gitdb2, GitPython, promise, graphql-core, gql, docker-pycreds, wandb, tensorboardx, simpletransformers\n",
      "Successfully installed GitPython-3.0.7 Keras-2.3.1 boto3-1.11.13 botocore-1.14.13 configparser-4.0.2 docker-pycreds-0.4.0 gitdb2-2.0.6 gql-0.2.0 graphql-core-1.1 jmespath-0.9.4 nvidia-ml-py3-7.352.0 pathtools-0.1.2 promise-2.3 regex-2020.1.8 s3transfer-0.3.3 sacremoses-0.0.38 sentencepiece-0.1.85 sentry-sdk-0.14.1 seqeval-0.0.12 shortuuid-0.5.0 simpletransformers-0.19.4 smmap2-2.0.5 subprocess32-3.5.4 tensorboardx-2.0 tokenizers-0.0.11 transformers-2.4.1 wandb-0.8.25 watchdog-0.10.2\n"
     ]
    }
   ],
   "source": [
    "#installing Simple Transformers\n",
    "!pip install simpletransformers\n"
   ]
  },
  {
   "cell_type": "code",
   "execution_count": 4,
   "metadata": {},
   "outputs": [],
   "source": [
    "from simpletransformers.classification import ClassificationModel\n"
   ]
  },
  {
   "cell_type": "code",
   "execution_count": 5,
   "metadata": {},
   "outputs": [],
   "source": [
    "# Create a ClassificationModel\n",
    "model = ClassificationModel('roberta', 'roberta-base', num_labels=5, use_cuda = False)\n",
    "\n"
   ]
  },
  {
   "cell_type": "code",
   "execution_count": 7,
   "metadata": {},
   "outputs": [
    {
     "name": "stdout",
     "output_type": "stream",
     "text": [
      "<class 'pandas.core.frame.DataFrame'>\n",
      "Int64Index: 1526 entries, 1295 to 4004\n",
      "Data columns (total 2 columns):\n",
      "STORY      1526 non-null object\n",
      "SECTION    1526 non-null int64\n",
      "dtypes: int64(1), object(1)\n",
      "memory usage: 35.8+ KB\n"
     ]
    }
   ],
   "source": [
    "train.info()"
   ]
  },
  {
   "cell_type": "code",
   "execution_count": 10,
   "metadata": {},
   "outputs": [
    {
     "name": "stdout",
     "output_type": "stream",
     "text": [
      "Features loaded from cache at cache_dir/cached_train_roberta_128_4_5\n"
     ]
    },
    {
     "name": "stderr",
     "output_type": "stream",
     "text": [
      "/home/varun/anaconda3/lib/python3.7/site-packages/simpletransformers/classification/classification_model.py:244: UserWarning: Dataframe headers not specified. Falling back to using column 0 as text and column 1 as labels.\n",
      "  \"Dataframe headers not specified. Falling back to using column 0 as text and column 1 as labels.\"\n"
     ]
    },
    {
     "data": {
      "application/vnd.jupyter.widget-view+json": {
       "model_id": "4ff328e645704870a6f598842865f711",
       "version_major": 2,
       "version_minor": 0
      },
      "text/plain": [
       "HBox(children=(IntProgress(value=0, description='Epoch', max=1, style=ProgressStyle(description_width='initial…"
      ]
     },
     "metadata": {},
     "output_type": "display_data"
    },
    {
     "data": {
      "application/vnd.jupyter.widget-view+json": {
       "model_id": "c57195e242ed49d6a4692a0bdf2111b0",
       "version_major": 2,
       "version_minor": 0
      },
      "text/plain": [
       "HBox(children=(IntProgress(value=0, description='Current iteration', max=1, style=ProgressStyle(description_wi…"
      ]
     },
     "metadata": {},
     "output_type": "display_data"
    },
    {
     "name": "stdout",
     "output_type": "stream",
     "text": [
      "Running loss: 1.355051\n",
      "\n",
      "Training of roberta model complete. Saved to outputs/.\n"
     ]
    }
   ],
   "source": [
    "model.train_model(train)\n",
    "\n"
   ]
  },
  {
   "cell_type": "code",
   "execution_count": 11,
   "metadata": {},
   "outputs": [
    {
     "name": "stdout",
     "output_type": "stream",
     "text": [
      "Features loaded from cache at cache_dir/cached_dev_roberta_128_4_1\n"
     ]
    },
    {
     "data": {
      "application/vnd.jupyter.widget-view+json": {
       "model_id": "52f48decf12c4348bc67087b90e6bc47",
       "version_major": 2,
       "version_minor": 0
      },
      "text/plain": [
       "HBox(children=(IntProgress(value=0, max=1), HTML(value='')))"
      ]
     },
     "metadata": {},
     "output_type": "display_data"
    },
    {
     "name": "stdout",
     "output_type": "stream",
     "text": [
      "\n"
     ]
    }
   ],
   "source": [
    "predictions, _ = model.predict(['Amitabh bachaan is playing in this movie'])"
   ]
  },
  {
   "cell_type": "code",
   "execution_count": 12,
   "metadata": {},
   "outputs": [
    {
     "data": {
      "text/plain": [
       "3"
      ]
     },
     "execution_count": 12,
     "metadata": {},
     "output_type": "execute_result"
    }
   ],
   "source": [
    "int(predictions)"
   ]
  },
  {
   "cell_type": "code",
   "execution_count": 13,
   "metadata": {},
   "outputs": [
    {
     "name": "stdout",
     "output_type": "stream",
     "text": [
      "Features loaded from cache at cache_dir/cached_dev_roberta_128_4_1\n"
     ]
    },
    {
     "data": {
      "application/vnd.jupyter.widget-view+json": {
       "model_id": "aa37a22e2606408da24b4ff7ab33b4d0",
       "version_major": 2,
       "version_minor": 0
      },
      "text/plain": [
       "HBox(children=(IntProgress(value=0, max=1), HTML(value='')))"
      ]
     },
     "metadata": {},
     "output_type": "display_data"
    },
    {
     "name": "stdout",
     "output_type": "stream",
     "text": [
      "\n"
     ]
    }
   ],
   "source": [
    "predictions2, _ = model.predict(['my phone is soo dumb and slow'])\n",
    "\n"
   ]
  },
  {
   "cell_type": "code",
   "execution_count": 14,
   "metadata": {},
   "outputs": [
    {
     "data": {
      "text/plain": [
       "3"
      ]
     },
     "execution_count": 14,
     "metadata": {},
     "output_type": "execute_result"
    }
   ],
   "source": [
    "int(predictions2)"
   ]
  },
  {
   "cell_type": "code",
   "execution_count": 16,
   "metadata": {},
   "outputs": [
    {
     "data": {
      "text/plain": [
       "3"
      ]
     },
     "execution_count": 16,
     "metadata": {},
     "output_type": "execute_result"
    }
   ],
   "source": [
    "int(predictions3)"
   ]
  },
  {
   "cell_type": "code",
   "execution_count": 29,
   "metadata": {},
   "outputs": [
    {
     "name": "stdout",
     "output_type": "stream",
     "text": [
      "Features loaded from cache at cache_dir/cached_dev_roberta_128_4_1\n"
     ]
    },
    {
     "data": {
      "application/vnd.jupyter.widget-view+json": {
       "model_id": "607312ad102d41269afa8a31ccf1c174",
       "version_major": 2,
       "version_minor": 0
      },
      "text/plain": [
       "HBox(children=(IntProgress(value=0, max=1), HTML(value='')))"
      ]
     },
     "metadata": {},
     "output_type": "display_data"
    },
    {
     "name": "stdout",
     "output_type": "stream",
     "text": [
      "\n"
     ]
    }
   ],
   "source": [
    "predictions4, _ = model.predict(['market trading is slow today'])"
   ]
  },
  {
   "cell_type": "code",
   "execution_count": 30,
   "metadata": {},
   "outputs": [
    {
     "data": {
      "text/plain": [
       "0"
      ]
     },
     "execution_count": 30,
     "metadata": {},
     "output_type": "execute_result"
    }
   ],
   "source": [
    "int(predictions4)"
   ]
  },
  {
   "cell_type": "code",
   "execution_count": 21,
   "metadata": {},
   "outputs": [
    {
     "name": "stdout",
     "output_type": "stream",
     "text": [
      "Features loaded from cache at cache_dir/cached_dev_roberta_128_4_1\n"
     ]
    },
    {
     "data": {
      "application/vnd.jupyter.widget-view+json": {
       "model_id": "c737bf93925d4e99a9db36d02a7f7efe",
       "version_major": 2,
       "version_minor": 0
      },
      "text/plain": [
       "HBox(children=(IntProgress(value=0, max=1), HTML(value='')))"
      ]
     },
     "metadata": {},
     "output_type": "display_data"
    },
    {
     "name": "stdout",
     "output_type": "stream",
     "text": [
      "\n"
     ]
    }
   ],
   "source": [
    "predictions5, _ = model.predict(['Friends, colleagues and fans including Viola Davis'])"
   ]
  },
  {
   "cell_type": "code",
   "execution_count": 22,
   "metadata": {},
   "outputs": [
    {
     "data": {
      "text/plain": [
       "3"
      ]
     },
     "execution_count": 22,
     "metadata": {},
     "output_type": "execute_result"
    }
   ],
   "source": [
    "int(predictions5)"
   ]
  },
  {
   "cell_type": "markdown",
   "metadata": {},
   "source": [
    "# Saving & Exporting The Trained Model"
   ]
  },
  {
   "cell_type": "code",
   "execution_count": 26,
   "metadata": {},
   "outputs": [],
   "source": [
    "import pickle\n",
    "\n",
    "filename = 'News_Classifier.pkl'\n",
    "pickle.dump(model, open(filename, 'wb'))\n"
   ]
  }
 ],
 "metadata": {
  "kernelspec": {
   "display_name": "Python 3",
   "language": "python",
   "name": "python3"
  },
  "language_info": {
   "codemirror_mode": {
    "name": "ipython",
    "version": 3
   },
   "file_extension": ".py",
   "mimetype": "text/x-python",
   "name": "python",
   "nbconvert_exporter": "python",
   "pygments_lexer": "ipython3",
   "version": "3.7.4"
  }
 },
 "nbformat": 4,
 "nbformat_minor": 2
}
